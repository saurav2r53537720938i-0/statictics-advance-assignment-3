{
 "cells": [
  {
   "cell_type": "markdown",
   "id": "3bc44170-f3d1-43a9-b6da-52409553ce22",
   "metadata": {},
   "source": [
    "Estimation  in statictics involes using sample data to estimate population parmeters.There are two main types of estimates point estimates and interval estimate. "
   ]
  },
  {
   "cell_type": "markdown",
   "id": "4681adf5-004e-435f-8464-4abae680722b",
   "metadata": {},
   "source": [
    "1. Point Estimate:involes using a single value used to estimate the population parameters there obtained by using a statictics calculated from the sample data such as the sample data sample porportion.\n",
    "2. Interval Estimate: An interval estimate proviode a range of value within which population parmeters is likely to lie along a level of confidence  it takes into account the variblity in the sample data and provides a data measure of uncertanity."
   ]
  },
  {
   "cell_type": "code",
   "execution_count": 1,
   "id": "04d2fd60-492d-4d79-af5f-7f1908437ad6",
   "metadata": {},
   "outputs": [
    {
     "ename": "SyntaxError",
     "evalue": "closing parenthesis ')' does not match opening parenthesis '[' (1025692002.py, line 4)",
     "output_type": "error",
     "traceback": [
      "\u001b[0;36m  Cell \u001b[0;32mIn[1], line 4\u001b[0;36m\u001b[0m\n\u001b[0;31m    calculate_confidence_intervals(sample_mean,sample_std,sam[ple_size,confidence_levels):\u001b[0m\n\u001b[0m                                                                                        ^\u001b[0m\n\u001b[0;31mSyntaxError\u001b[0m\u001b[0;31m:\u001b[0m closing parenthesis ')' does not match opening parenthesis '['\n"
     ]
    }
   ],
   "source": [
    "import scipy.stats as stats\n",
    "\n",
    "def\n",
    "calculate_confidence_intervals(sample_mean,sample_std,sam[ple_size,confidence_levels):\n",
    "                                                          \n",
    "Parmeters:\n",
    "sample_mean:The mean of the sample.\n",
    "sample_std:The standard devation of the sample.\n",
    "confidence_level:the desired confidence level(between 0 and 1)\n",
    "                                                          Returns:\n",
    "                                                          confidence_interval:A tuple containing the lower and upper  bounds of confidence"
   ]
  },
  {
   "cell_type": "markdown",
   "id": "0135aebf-99ab-4c96-bd26-1a24ff73ae5d",
   "metadata": {},
   "source": [
    "Hypothesis testing is a statictics method used to make inferences about a poulation parameters collecting sample data and using statictics technique to determine whether the evidence from the sample supports or contradicts the hypothesis."
   ]
  },
  {
   "cell_type": "markdown",
   "id": "23af148c-c38f-400a-ba27-caa6685eac8a",
   "metadata": {},
   "source": [
    "1. Formulating Hypothesis\n",
    "2. Choosing a signficance\n",
    "3. Collecting Data\n",
    "4. performing statictical analysis\n",
    "5. Drawing conclusion"
   ]
  },
  {
   "cell_type": "markdown",
   "id": "77e552d7-a5de-41bf-a7d5-3dbd36bab5ec",
   "metadata": {},
   "source": [
    "Hpotheisi the average weight of male college student is higher than the average weight of male high school student."
   ]
  },
  {
   "cell_type": "code",
   "execution_count": 3,
   "id": "85bd2628-3832-45b2-a267-30339829d3c3",
   "metadata": {},
   "outputs": [
    {
     "ename": "SyntaxError",
     "evalue": "'(' was never closed (1093631597.py, line 12)",
     "output_type": "error",
     "traceback": [
      "\u001b[0;36m  Cell \u001b[0;32mIn[3], line 12\u001b[0;36m\u001b[0m\n\u001b[0;31m    pooled_std = np.sqrt(std = np.squrt((std1**2/n1)+(std=np.\u001b[0m\n\u001b[0m                                                     ^\u001b[0m\n\u001b[0;31mSyntaxError\u001b[0m\u001b[0;31m:\u001b[0m '(' was never closed\n"
     ]
    }
   ],
   "source": [
    "import numpy as np\n",
    "from scipy import stats \n",
    "\n",
    "def two_sample_t_test(sample1,sample2,alpha=0.05):\n",
    "    # Calculate means and standard devations\n",
    "    mean1 = np.mean(sample1)\n",
    "    mean2 = np.mean(sample2)\n",
    "    std1 = np.std(sample1,ddof=1)\n",
    "    # using Bessel's correction\n",
    "    std2 = np.std(sample2,ddof=1)\n",
    "    # Calculate degreees the t-statictics\n",
    "    pooled_std = np.sqrt(std = np.squrt((std1**2/n1)+(std=np."
   ]
  },
  {
   "cell_type": "markdown",
   "id": "11c9d6a7-f0a8-4062-96f9-97a7e33afde7",
   "metadata": {},
   "source": [
    "The null hypothesis (ho) and alternatives hypothesis (H1orha) are statement used in hypothesis testing to make assertion about a poupulation parmeters the null hypothesis typically reprsent a deafult postion  a staytement of no effect or no diffrence while the alternative"
   ]
  },
  {
   "cell_type": "markdown",
   "id": "c41e74ff-c483-472c-b833-39d99999e18a",
   "metadata": {},
   "source": [
    "here are the genral steps involed in hypothesis testing:\n",
    "1. Formulate hypothesis\n",
    "2. Select signficance level\n",
    "3. Choose test statictics\n",
    "4. collect data\n",
    "5. calculate test statictics\n",
    "6. detrmine crtical value or p-value\n",
    "7. make decision\n",
    "8. Draw Conculsion\n",
    "9. interpret result"
   ]
  },
  {
   "cell_type": "markdown",
   "id": "77fc6ea4-b292-4a88-845b-ec441315735b",
   "metadata": {},
   "source": [
    "A p-value is a statical measure that helps determine the strength of evidence against the null hypothesis it quanties the probality of obtaning a test statics at least as extreme as the one observed in the sample data:\n",
    "1. Calculation\n",
    "2. Interpretation\n",
    "3. Decsion Making\n",
    "4. Strength of Evidence\n",
    "5. Not a measure of effect size\n",
    "6. "
   ]
  }
 ],
 "metadata": {
  "kernelspec": {
   "display_name": "Python 3 (ipykernel)",
   "language": "python",
   "name": "python3"
  },
  "language_info": {
   "codemirror_mode": {
    "name": "ipython",
    "version": 3
   },
   "file_extension": ".py",
   "mimetype": "text/x-python",
   "name": "python",
   "nbconvert_exporter": "python",
   "pygments_lexer": "ipython3",
   "version": "3.10.8"
  }
 },
 "nbformat": 4,
 "nbformat_minor": 5
}
